{
 "metadata": {
  "name": "",
  "signature": "sha256:b92d9faec420820fb23af3e039cdd5c9ab1ce82c77d22790ef37f1b1e3618b40"
 },
 "nbformat": 3,
 "nbformat_minor": 0,
 "worksheets": [
  {
   "cells": [
    {
     "cell_type": "code",
     "collapsed": false,
     "input": [
      "import gzip, cPickle"
     ],
     "language": "python",
     "metadata": {},
     "outputs": [],
     "prompt_number": 3
    },
    {
     "cell_type": "code",
     "collapsed": false,
     "input": [
      "with gzip.open('mnist.pkl.gz', 'rb') as f:\n",
      "        train_raw, valid_raw, test_raw = cPickle.load(f)"
     ],
     "language": "python",
     "metadata": {},
     "outputs": [],
     "prompt_number": 5
    }
   ],
   "metadata": {}
  }
 ]
}