{
 "metadata": {
  "name": "",
  "signature": "sha256:63c94a76dfdb6f15b92da2e592b9e35c8d347df9a3236af2553ddd064bbd973b"
 },
 "nbformat": 3,
 "nbformat_minor": 0,
 "worksheets": [
  {
   "cells": [
    {
     "cell_type": "code",
     "collapsed": false,
     "input": [
      "import math\n",
      "from hyperopt import fmin, tpe, hp, STATUS_OK"
     ],
     "language": "python",
     "metadata": {},
     "outputs": [],
     "prompt_number": 394
    },
    {
     "cell_type": "code",
     "collapsed": false,
     "input": [
      "space = {\n",
      "        'epochs': hp.qloguniform('epochs', 3, 4, 1),\n",
      "        'learning_rate': hp.loguniform('learning_rate', -4, 2),\n",
      "        'regularization': hp.loguniform('regularization', -8, -2),\n",
      "        'norm': hp.choice('use_norm', [\n",
      "            {'limit': None},\n",
      "            {'limit': hp.loguniform('norm_limit', -2, 1)}\n",
      "        ])}"
     ],
     "language": "python",
     "metadata": {},
     "outputs": [],
     "prompt_number": 395
    },
    {
     "cell_type": "code",
     "collapsed": false,
     "input": [
      "import hyperopt.pyll.stochastic\n",
      "for i in xrange(10):\n",
      "    print hyperopt.pyll.stochastic.sample(space)"
     ],
     "language": "python",
     "metadata": {},
     "outputs": [
      {
       "output_type": "stream",
       "stream": "stdout",
       "text": [
        "{'epochs': 45.0, 'learning_rate': 4.541990567632407, 'regularization': 0.042550009659475856, 'norm': {'limit': 0.7983903442942601}}\n",
        "{'epochs': 39.0, 'learning_rate': 0.8027936724000163, 'regularization': 0.013856892849926208, 'norm': {'limit': 0.1365498718413851}}\n",
        "{'epochs': 24.0, 'learning_rate': 0.1617947378897095, 'regularization': 0.00038416246013774714, 'norm': {'limit': 0.5636472183018654}}\n",
        "{'epochs': 35.0, 'learning_rate': 0.06332517044610478, 'regularization': 0.054343576816735725, 'norm': {'limit': 0.16626755394794857}}\n",
        "{'epochs': 35.0, 'learning_rate': 1.9974155882023374, 'regularization': 0.039308845368536904, 'norm': {'limit': None}}\n",
        "{'epochs': 48.0, 'learning_rate': 0.40568147707292757, 'regularization': 0.0012016627552851361, 'norm': {'limit': 0.9242793101118958}}\n",
        "{'epochs': 41.0, 'learning_rate': 0.2737208623543886, 'regularization': 0.0008762208471255268, 'norm': {'limit': None}}\n",
        "{'epochs': 22.0, 'learning_rate': 0.4523658778158067, 'regularization': 0.03414100678331619, 'norm': {'limit': None}}\n",
        "{'epochs': 21.0, 'learning_rate': 4.8232109688256415, 'regularization': 0.0006755259813848688, 'norm': {'limit': 0.18220793555278758}}"
       ]
      },
      {
       "output_type": "stream",
       "stream": "stdout",
       "text": [
        "\n",
        "{'epochs': 44.0, 'learning_rate': 2.2563381249358136, 'regularization': 0.0009785986753960692, 'norm': {'limit': None}}\n"
       ]
      }
     ],
     "prompt_number": 396
    },
    {
     "cell_type": "code",
     "collapsed": false,
     "input": [
      "import logistic\n",
      "reload(logistic);"
     ],
     "language": "python",
     "metadata": {},
     "outputs": [],
     "prompt_number": 397
    },
    {
     "cell_type": "code",
     "collapsed": false,
     "input": [
      "def objective(params):\n",
      "    params['norm_limit'] = params['norm']['limit']\n",
      "    del params['norm']\n",
      "    loss, test_accuracy = logistic.run(**params)\n",
      "    return {'loss': 1-test_accuracy[-1], 'status': STATUS_OK, 'real_loss': loss}"
     ],
     "language": "python",
     "metadata": {},
     "outputs": [],
     "prompt_number": 398
    },
    {
     "cell_type": "code",
     "collapsed": false,
     "input": [
      "best = fmin(objective,\n",
      "            space=space,\n",
      "            algo=tpe.suggest,\n",
      "            max_evals=32)\n",
      "\n",
      "print best"
     ],
     "language": "python",
     "metadata": {},
     "outputs": [
      {
       "output_type": "stream",
       "stream": "stdout",
       "text": [
        "{'epochs': 30.0, 'norm_limit': 2.2960469333634923, 'learning_rate': 4.9382469279313455, 'regularization': 0.002957182123925189, 'use_norm': 1}\n"
       ]
      }
     ],
     "prompt_number": 399
    },
    {
     "cell_type": "code",
     "collapsed": false,
     "input": [
      "import matplotlib.pyplot as plt\n",
      "%matplotlib inline\n",
      "\n",
      "params = dict(best)\n",
      "\n",
      "if params['use_norm'] == 0:    \n",
      "    params['norm_limit'] = None\n",
      "\n",
      "del params['use_norm']\n",
      "\n",
      "reload(logistic)\n",
      "loss, test_accuracy = logistic.run(**params)\n",
      "fig = plt.figure(figsize=(16,4))\n",
      "ax1 = plt.subplot(131)\n",
      "ax1.plot(loss)\n",
      "ax2 = plt.subplot(132)\n",
      "ax2.plot(test_accuracy);\n",
      "ax3 = plt.subplot(133)\n",
      "ax3.plot(logistic.model.beta, '.');\n",
      "print test_accuracy[-1]"
     ],
     "language": "python",
     "metadata": {},
     "outputs": [
      {
       "output_type": "stream",
       "stream": "stdout",
       "text": [
        "0.993333333333\n"
       ]
      },
      {
       "metadata": {},
       "output_type": "display_data",
       "png": "[encoded data removed]",
       "text": [
        "<matplotlib.figure.Figure at 0x10a512bd0>"
       ]
      }
     ],
     "prompt_number": 400
    },
    {
     "cell_type": "code",
     "collapsed": false,
     "input": [],
     "language": "python",
     "metadata": {},
     "outputs": [],
     "prompt_number": 400
    }
   ],
   "metadata": {}
  }
 ]
}