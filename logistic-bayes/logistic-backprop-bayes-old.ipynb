{
 "metadata": {
  "name": "",
  "signature": "sha256:c34e3eda85eafa4c1f5ea0a91b58eda3d13be99139d30f19ffad6a0a81fedea6"
 },
 "nbformat": 3,
 "nbformat_minor": 0,
 "worksheets": [
  {
   "cells": [
    {
     "cell_type": "code",
     "collapsed": false,
     "input": [
      "import collections"
     ],
     "language": "python",
     "metadata": {},
     "outputs": [],
     "prompt_number": 453
    },
    {
     "cell_type": "code",
     "collapsed": false,
     "input": [
      "import numpy as np\n",
      "import scipy.special\n",
      "import scipy.stats"
     ],
     "language": "python",
     "metadata": {},
     "outputs": [],
     "prompt_number": 454
    },
    {
     "cell_type": "code",
     "collapsed": false,
     "input": [
      "import matplotlib.pyplot as plt\n",
      "%matplotlib inline"
     ],
     "language": "python",
     "metadata": {},
     "outputs": [],
     "prompt_number": 464
    },
    {
     "cell_type": "code",
     "collapsed": false,
     "input": [
      "def generate_data(N, D):\n",
      "    np.random.seed(1)\n",
      "    x = np.random.multivariate_normal(np.zeros(D), np.identity(D), size=N)\n",
      "    beta  = np.zeros(D)\n",
      "    beta[0] = 1\n",
      "    beta[1] = -1    \n",
      "    alpha = 0\n",
      "    p = scipy.special.expit(x.dot(beta) + alpha)\n",
      "    r = np.random.uniform(size=N)\n",
      "    category = r < p\n",
      "    return x, category\n",
      "\n",
      "N = 200\n",
      "D = 2\n",
      "x, category = generate_data(N, D)\n",
      "y = np.array(category, dtype=int)\n",
      "x0 = x[category]\n",
      "x1 = x[np.logical_not(category)]\n",
      "\n",
      "plt.plot(x0[:,0], x0[:,1], 'rx');\n",
      "plt.plot(x1[:,0], x1[:,1], 'bx');"
     ],
     "language": "python",
     "metadata": {},
     "outputs": [
      {
       "metadata": {},
       "output_type": "display_data",
       "png": "[encoded data removed]",
       "text": [
        "<matplotlib.figure.Figure at 0x105e6d7d0>"
       ]
      }
     ],
     "prompt_number": 465
    },
    {
     "cell_type": "code",
     "collapsed": false,
     "input": [
      "def nlogprob_grad(beta, x, y):\n",
      "    z = x.dot(beta)\n",
      "    p = scipy.special.expit(z)\n",
      "    dL_dz = p - y\n",
      "    dL_dz = dL_dz[:, np.newaxis]\n",
      "    dL_dbeta = dL_dz * x\n",
      "    return (dL_dbeta + 0.01*beta).mean(axis=0)"
     ],
     "language": "python",
     "metadata": {},
     "outputs": [],
     "prompt_number": 516
    },
    {
     "cell_type": "code",
     "collapsed": false,
     "input": [
      "def sigma_rho(rho):\n",
      "    return np.log(1+np.exp(rho))\n",
      "\n",
      "def dlog_q_dw(x, mu, sigma):\n",
      "    return (-(x - mu)/sigma**2)\n",
      "\n",
      "def dlog_q_drho(x, mu, sigma):\n",
      "    return (((x - mu)**2 - sigma**2)/sigma**3)"
     ],
     "language": "python",
     "metadata": {},
     "outputs": [],
     "prompt_number": 517
    },
    {
     "cell_type": "code",
     "collapsed": false,
     "input": [
      "def gradient_step(model, x, y, gamma):\n",
      "    K = 10\n",
      "    mu = model.beta_mu\n",
      "    rho = model.beta_rho\n",
      "    sigma = sigma_rho(rho)\n",
      "    mu_grad = np.zeros_like(mu)\n",
      "    rho_grad = np.zeros_like(rho)\n",
      "    alpha = 1 / (1 + np.exp(-rho))\n",
      "    for i in xrange(K):\n",
      "        eps = np.random.randn(model.beta_mu.shape[0])\n",
      "        beta = mu + sigma*eps\n",
      "        lp_grad = nlogprob_grad(beta, x, y)\n",
      "        np.add(mu_grad, lp_grad, out=mu_grad)\n",
      "        np.add(rho_grad, eps*alpha*lp_grad, out=rho_grad)\n",
      "        np.add(rho_grad, eps*alpha*dlog_q_dw(beta, mu, sigma), out=rho_grad)\n",
      "        np.add(rho_grad, alpha*dlog_q_drho(beta, mu, sigma), out=rho_grad)\n",
      "    np.subtract(model.beta_mu, gamma*mu_grad/K, out=model.beta_mu)\n",
      "    np.subtract(model.beta_rho, 0.1*gamma*rho_grad/K, out=model.beta_rho)"
     ],
     "language": "python",
     "metadata": {},
     "outputs": [],
     "prompt_number": 518
    },
    {
     "cell_type": "code",
     "collapsed": false,
     "input": [
      "def plot_model(model):\n",
      "    xx = np.linspace(-4, 4, 200)\n",
      "    for i in xrange(model.beta_mu.shape[0]):\n",
      "        yy = scipy.stats.norm.pdf(xx, loc=model.beta_mu[i], scale=sigma_rho(model.beta_rho[i]))\n",
      "        plt.plot(xx, yy)        \n",
      "        \n",
      "LogisticVariModel = collections.namedtuple('LogisticVariModel', ['beta_mu', 'beta_rho', 'beta_prior_mu', 'beta_prior_sigma'])\n",
      "model = LogisticVariModel(beta_mu=np.random.randn(D), beta_rho = 2.*np.random.randn(D),\\\n",
      "                          beta_prior_mu = .0, beta_prior_sigma = 5.)\n",
      "\n",
      "bs = 20\n",
      "M  = N / bs\n",
      "\n",
      "xs = np.array_split(x, M)\n",
      "ys = np.array_split(y, M)\n",
      "\n",
      "gamma = 0.2\n",
      "\n",
      "for i in xrange(50):\n",
      "    for j in xrange(M):\n",
      "        gradient_step(model, xs[j], ys[j], gamma / M)\n",
      "\n",
      "plot_model(model)\n",
      "print model"
     ],
     "language": "python",
     "metadata": {},
     "outputs": [
      {
       "output_type": "stream",
       "stream": "stdout",
       "text": [
        "LogisticVariModel(beta_mu=array([ 1.56068928, -1.62706986]), beta_rho=array([ 3.16817004, -0.39429677]), beta_prior_mu=0.0, beta_prior_sigma=5.0)\n"
       ]
      },
      {
       "metadata": {},
       "output_type": "display_data",
       "png": "[encoded data removed]",
       "text": [
        "<matplotlib.figure.Figure at 0x1057bc7d0>"
       ]
      }
     ],
     "prompt_number": 520
    },
    {
     "cell_type": "code",
     "collapsed": false,
     "input": [],
     "language": "python",
     "metadata": {},
     "outputs": []
    }
   ],
   "metadata": {}
  }
 ]
}