{
 "metadata": {
  "name": "",
  "signature": "sha256:6fe3977ed312336180eb7416a99131444f12b6499408849b3a6035b4c0ab1939"
 },
 "nbformat": 3,
 "nbformat_minor": 0,
 "worksheets": [
  {
   "cells": [
    {
     "cell_type": "markdown",
     "metadata": {},
     "source": [
      "# Replicating DeepMind: Logistic Regression with Bayes by Backprop"
     ]
    },
    {
     "cell_type": "code",
     "collapsed": false,
     "input": [
      "import collections\n",
      "\n",
      "import numpy as np\n",
      "import scipy.special\n",
      "import scipy.stats\n",
      "\n",
      "import matplotlib.pyplot as plt\n",
      "%matplotlib inline"
     ],
     "language": "python",
     "metadata": {},
     "outputs": [],
     "prompt_number": 12
    },
    {
     "cell_type": "code",
     "collapsed": false,
     "input": [
      "def generate_data(N, D):\n",
      "    np.random.seed(1)\n",
      "    x = np.random.randn(N, D)\n",
      "    beta = np.zeros(D)\n",
      "    beta[0:10] = 1.\n",
      "    beta[10:20] = -1.\n",
      "    p = scipy.special.expit(x.dot(beta))\n",
      "    r = np.random.uniform(size=N)\n",
      "    category = r < p\n",
      "    return x, category\n",
      "\n",
      "N = 500\n",
      "D = 50\n",
      "x, category = generate_data(N, D)\n",
      "y = np.array(category, dtype=int)\n",
      "\n",
      "# x[:,20:30] *= 0.2\n",
      "\n",
      "x0 = x[category]\n",
      "x1 = x[np.logical_not(category)]\n",
      "plt.plot(x0[:,0], x0[:,1], 'rx');\n",
      "plt.plot(x1[:,0], x1[:,1], 'bx');"
     ],
     "language": "python",
     "metadata": {},
     "outputs": [
      {
       "metadata": {},
       "output_type": "display_data",
       "png": "[encoded data removed]",
       "text": [
        "<matplotlib.figure.Figure at 0x109955c10>"
       ]
      }
     ],
     "prompt_number": 13
    },
    {
     "cell_type": "code",
     "collapsed": false,
     "input": [
      "LogisticVariModel = collections.namedtuple('LogisticVariModel', ['mu', 'rho'])"
     ],
     "language": "python",
     "metadata": {},
     "outputs": [],
     "prompt_number": 14
    },
    {
     "cell_type": "code",
     "collapsed": false,
     "input": [
      "def beta_plot_helper(model, beta_plot):\n",
      "    beta_plot.set_xlabel('dimension')\n",
      "    beta_plot.set_ylabel('beta')\n",
      "    beta_plot.plot(model.mu, 'gx')\n",
      "    sigma = np.log(1. + np.exp(model.rho))\n",
      "    beta_plot.plot(model.mu + 2*sigma, 'b_');\n",
      "    beta_plot.plot(model.mu - 2*sigma, 'b_');\n",
      "    beta_plot.plot([0,D],[1,1],'k--', alpha=0.1)\n",
      "    beta_plot.plot([0,D],[0,0],'k--', alpha=0.1)\n",
      "    beta_plot.plot([0,D],[-1,-1],'k--', alpha=0.1)\n",
      "    print \"Mean posterior standard deviation:\", sigma.mean()\n",
      "\n",
      "def losses_plot(losses_p, losses_q, model):\n",
      "    plt.figure(figsize=(16,4))\n",
      "    loss_plot = plt.subplot(131)\n",
      "    loss_plot.set_xlabel('epoch')\n",
      "    loss_plot.set_ylabel('loss')\n",
      "    loss_plot.plot(losses_q + losses_p)\n",
      "\n",
      "    qloss_plot = plt.subplot(132)\n",
      "    qloss_plot.set_xlabel('epoch')\n",
      "    qloss_plot.set_ylabel('q loss')\n",
      "    qloss_plot.plot(losses_q)\n",
      "\n",
      "    beta_plot = plt.subplot(133)\n",
      "    beta_plot_helper(model, beta_plot)"
     ],
     "language": "python",
     "metadata": {},
     "outputs": [],
     "prompt_number": 15
    },
    {
     "cell_type": "code",
     "collapsed": false,
     "input": [
      "def dlogp_dw(beta, x, y, lam):\n",
      "    z = x.dot(beta)\n",
      "    p = scipy.special.expit(z)\n",
      "    dL_dz = y - p\n",
      "    dL_dz = dL_dz[:, np.newaxis]\n",
      "    dL_dbeta = dL_dz * x\n",
      "    return dL_dbeta.sum(axis=0) - lam*beta\n",
      "\n",
      "def to_sigma(rho):\n",
      "    return np.log(1. + np.exp(rho))\n",
      "\n",
      "def grad_update(model, x, y, gamma):\n",
      "    grad = -dlogp_dw(model.mu, x, y)\n",
      "    np.subtract(model.mu, gamma*grad, out=model.mu)\n",
      "\n",
      "def sample(model):\n",
      "    mu = model.mu\n",
      "    rho = model.rho\n",
      "    eps = np.random.randn(len(mu))\n",
      "    sigma = to_sigma(rho)\n",
      "    beta = mu + sigma*eps\n",
      "    return beta, eps\n",
      "\n",
      "def dlogq_dw(x, mu, sigma):\n",
      "    return (-(x - mu)/sigma**2)\n",
      "\n",
      "def dlogq_dsigma(x, mu, sigma):\n",
      "    return (((x - mu)**2 - sigma**2)/sigma**3)\n",
      "\n",
      "def vari_grad(model, x, y, lam):\n",
      "    mu = model.mu\n",
      "    rho = model.rho\n",
      "    beta, eps = sample(model)\n",
      "    sigma = to_sigma(rho)\n",
      "    dsigma_drho = 1 / (1 + np.exp(-rho))\n",
      "    dlogp = dlogp_dw(beta, x, y, lam)\n",
      "    mu_grad = -dlogp\n",
      "    rho_grad = eps*dsigma_drho*(dlogq_dw(beta, mu, sigma) - dlogp) + dsigma_drho*dlogq_dsigma(beta, mu, sigma)\n",
      "    return mu_grad, rho_grad\n",
      "\n",
      "def vari_grad_update(model, x, y, gamma, zeta, lam):\n",
      "    mu_grad, rho_grad = vari_grad(model, x, y, lam)\n",
      "    np.subtract(model.mu, gamma*mu_grad, out=model.mu)\n",
      "    np.subtract(model.rho, zeta*rho_grad, out=model.rho)\n",
      "    \n",
      "def loss(beta, x, y, lam):\n",
      "    z  = x.dot(beta)\n",
      "    p  = scipy.special.expit(z)\n",
      "    pn = scipy.special.expit(-z)\n",
      "    yp = np.where(y == 1, p, pn)\n",
      "    logp_D_given_w = np.log(yp)\n",
      "    return -logp_D_given_w.sum() + ((lam/2)*beta**2).sum()\n",
      "\n",
      "def vari_loss_pq(model, x, y, lam):\n",
      "    mu = model.mu\n",
      "    rho = model.rho\n",
      "    sigma = to_sigma(rho)\n",
      "    beta, eps = sample(model)\n",
      "    z = x.dot(beta)\n",
      "    p  = scipy.special.expit(z)\n",
      "    pn = scipy.special.expit(-z)\n",
      "    yp = np.where(y == 1, p, pn)\n",
      "    logp_D_given_w = np.log(yp)\n",
      "    logq_w_given_theta = -((beta - mu)**2)/(2*sigma**2) - np.log(sigma) - 0.5*np.log(2*np.pi)\n",
      "    nlogp = -logp_D_given_w.sum() + ((lam/2)*beta**2).sum()\n",
      "    logq = logq_w_given_theta.sum()\n",
      "    return nlogp, logq\n",
      "\n",
      "def vari_loss(model, x, y, lam):\n",
      "    logp, logq = vari_loss_pq(model, x, y, lam)\n",
      "    return logq + nlogp"
     ],
     "language": "python",
     "metadata": {},
     "outputs": [],
     "prompt_number": 16
    },
    {
     "cell_type": "code",
     "collapsed": false,
     "input": [
      "model = LogisticVariModel(mu=np.random.randn(D), rho=np.full(D, np.log(np.exp(1/(0.26*x.std(axis=0)*np.sqrt(N)))-1.)))\n",
      "\n",
      "epochs = 1000\n",
      "gamma = 1./N\n",
      "zeta = 10.*gamma\n",
      "tau = 2\n",
      "lam = 1/tau**2\n",
      "\n",
      "losses_p = np.zeros(epochs)\n",
      "losses_q = np.zeros(epochs)\n",
      "\n",
      "for i in xrange(epochs):\n",
      "    vari_grad_update(model, x, y, gamma, zeta, lam)\n",
      "    losses_p[i], losses_q[i] = vari_loss_pq(model, x, y, lam)\n",
      "\n",
      "losses_plot(losses_p, losses_q, model)\n",
      "print \"Logistic loss:\", loss(model.mu, x, y, lam)\n",
      "print \"Variational loss\", losses_p[-1]"
     ],
     "language": "python",
     "metadata": {},
     "outputs": [
      {
       "output_type": "stream",
       "stream": "stdout",
       "text": [
        "Mean posterior standard deviation: 0.197541289878\n",
        "Logistic loss: 107.869895735\n",
        "Variational loss 134.122090574\n"
       ]
      },
      {
       "metadata": {},
       "output_type": "display_data",
       "png": "[encoded data removed]",
       "text": [
        "<matplotlib.figure.Figure at 0x10991e910>"
       ]
      }
     ],
     "prompt_number": 17
    },
    {
     "cell_type": "markdown",
     "metadata": {},
     "source": [
      "Here's a cool trick to choose an initial value for the standard deviation of the variational posterior.\n",
      "\n",
      "Recall that a bayesian posterior (and MLE) asymtotically converges to the normal distribution given large amounts of data:\n",
      "\n",
      "$$ \\lim_{n\\to\\infty} \\; \\hat{\\theta} \\:\\vert\\: D_1, \\ldots ,D_n \\thicksim \\mathcal{N}(\\theta_0, \\frac{1}{n \\mathcal{I}(\\theta)}) $$\n",
      "\n",
      "Where $\\hat{\\theta}$ is our parameter, $\\theta$ is the true value, $D_n$ are our measurements and $\\mathcal{I}(\\theta)$ is the fisher information at the true parameter. Fisher information is defined like so:\n",
      "\n",
      "$$ \\mathcal{I}(\\theta) = \\mathbb{E} \\left[\\left. \\left( \\frac{\\partial}{\\partial \\theta} \\log{P(D \\:\\vert\\: \\theta)} \\right)^2 \\:\\right\\vert\\: \\theta \\right]$$\n",
      "\n",
      "Where $p(D \\:\\vert\\: \\theta)$ is the likelihood. We consider the log probability of one example in one dimension, let:\n",
      "\n",
      "$$ \\log{P(D \\:\\vert\\: \\theta)} = \\log{p(y \\:\\vert\\: x, \\theta)p(x)} = y \\log{\\sigma(\\theta x)} + (1 - y)\\log{(1 - \\sigma(\\theta x))} + p(x) $$\n",
      "\n",
      "Where $\\sigma(\\cdot)$ is the sigmoid function. Without loss of generality consider the case that $y = 1$, $\\theta \\geq 0$ and $\\mathbb{E}[x] = 0$ (the following argument being symmetric for the other cases) giving:\n",
      "\n",
      "$$\n",
      "\\begin{align}\n",
      "\\mathbb{E}\\left[\\frac{\\partial}{\\partial \\theta} \\left( \\log{\\sigma(\\theta x) + p(x) } \\right)^2 \\right] \n",
      "&= \\mathbb{E}\\left[ \\left( \\frac{x \\sigma'(\\theta x)}{\\sigma(\\theta x)} \\right)^2 \\right] \\\\\n",
      "&= \\mathbb{E}\\left[ \\left( \\frac{x \\sigma(\\theta x)(1-\\sigma(\\theta x))}{\\sigma(\\theta x)} \\right)^2 \\right] \\\\\n",
      "&= \\mathbb{E}\\left[ x^2(1 - \\sigma(\\theta x))^2 \\right] \\\\\n",
      "&\\approx \\mathbb{E}[x^2](1 - \\sigma(\\mathbb{E}[\\theta x]))^2\n",
      "\\end{align}\n",
      "$$\n",
      "\n",
      "The value of $\\mathbb{E}[\\theta x]$ can be interpreted as the expected evidence (on the logit scale) that $x$ provides when $y = 1$ we assume that this value is on a reasonable scale, i.e. that the data is moderately informative so $\\mathbb{E}[\\theta x] \\approx 1$:\n",
      "\n",
      "$$\n",
      "\\begin{align}\n",
      "\\text{var}[x](1 - \\sigma(1))^2 &= 0.26^2 \\, \\text{var}[x]\\\\\n",
      "\\text{std}[\\hat{\\theta}] &\\approx \\frac{1}{0.26\\,\\text{std}[x]\\sqrt{n}}\n",
      "\\end{align}\n",
      "$$\n",
      "\n",
      "This will over approximate the variance of the estimator if $\\theta$ is mostly small relative to $x$ and underestimate the variance when $\\theta$ is very large relative to $x$. Very large values of $\\theta$ should be pratically uncommon. If there is a strong prior on $\\theta$ and not much data, the variance of the prior will be a better approximation. Inspecting the terms is also informative, showing that low variance in the predictors leads to large variance in the parameter estimates, which is to be exptected, in the extreme case of $\\text{std}[x] = 0$ we have no information and $\\theta$ is unconstrained (the model is singular)."
     ]
    },
    {
     "cell_type": "code",
     "collapsed": false,
     "input": [
      "import scipy.optimize"
     ],
     "language": "python",
     "metadata": {},
     "outputs": [],
     "prompt_number": 18
    },
    {
     "cell_type": "code",
     "collapsed": false,
     "input": [
      "def loss_grad(theta, x, y, lam):\n",
      "    return -dlogp_dw(theta, x, y, lam)\n",
      "\n",
      "def loss_hess(theta, x, y, lam):\n",
      "    D  = len(theta)\n",
      "    z  = x.dot(theta)\n",
      "    s  = scipy.special.expit(z)\n",
      "    ns = scipy.special.expit(-z)\n",
      "    ds = (s*ns)[:,np.newaxis]\n",
      "    ms = np.apply_along_axis(lambda x: np.outer(x, x).reshape(-1), 1, x) * ds\n",
      "    return ms.sum(axis=0).reshape(D, D) + lam*np.identity(D)\n",
      "\n",
      "def loss_hess_p(theta, v, x, y, lam):\n",
      "    z  = x.dot(theta)\n",
      "    s  = scipy.special.expit(z)\n",
      "    ns = scipy.special.expit(-z)\n",
      "    ds = (s*ns)[:,np.newaxis]\n",
      "    xv = x.dot(v)[:,np.newaxis]\n",
      "    return (xv*x*ds).sum(axis=0) + lam*v\n",
      "\n",
      "tau = 5\n",
      "lam = 1/tau**2\n",
      "theta0 = np.zeros(D)\n",
      "res = scipy.optimize.minimize(loss, theta0, method='Newton-CG', jac=loss_grad, hessp=loss_hess_p, args=(x, y, lam))\n",
      "theta = res.x\n",
      "\n",
      "print res\n",
      "plt.plot(theta, 'rx');"
     ],
     "language": "python",
     "metadata": {},
     "outputs": [
      {
       "output_type": "stream",
       "stream": "stdout",
       "text": [
        "  status: 0\n",
        " success: True\n",
        "    njev: 24\n",
        "    nfev: 13\n",
        "     fun: 103.84308851764683\n",
        "       x: array([ 1.34662476,  1.35662559,  1.0760136 ,  1.26773324,  1.37050895,\n",
        "        1.24472159,  1.11674081,  1.40488826,  1.75781638,  1.66408569,\n",
        "       -1.07300101, -1.23268304, -1.28022791, -1.21750357, -1.39638922,\n",
        "       -1.27550817, -1.3061277 , -1.72965726, -1.63433618, -1.21550551,\n",
        "       -0.03673872,  0.13133376,  0.2785743 ,  0.19051559, -0.11309458,\n",
        "        0.16684145,  0.20613326, -0.51694223,  0.22953619, -0.0381594 ,\n",
        "        0.11194279, -0.18787454, -0.19459452, -0.00889158,  0.0574378 ,\n",
        "       -0.13123035, -0.07471645, -0.17675318, -0.25209137,  0.16377334,\n",
        "        0.3630739 , -0.11379298,  0.18575643, -0.3347577 ,  0.0113045 ,\n",
        "       -0.11154236,  0.04364054, -0.04099297, -0.17872246,  0.15377916])\n",
        " message: 'Optimization terminated successfully.'\n",
        "    nhev: 39\n",
        "     jac: array([ -2.49128683e-05,  -1.26655485e-04,  -1.67150386e-04,\n",
        "         6.29877271e-05,  -5.88357891e-05,  -9.79704794e-05,\n",
        "        -8.03956733e-05,  -8.20164040e-05,   1.19308257e-04,\n",
        "        -2.46344842e-05,  -3.92689981e-05,   1.18796428e-04,\n",
        "         1.83415649e-05,  -7.89979121e-05,  -2.33897263e-05,\n",
        "         4.22911262e-05,  -8.07511626e-05,   3.71477386e-06,\n",
        "         2.95435880e-05,  -1.28536740e-05,  -1.67640997e-04,\n",
        "         9.41527801e-06,   3.02288381e-05,  -8.33595348e-05,\n",
        "        -6.72389630e-05,   1.95261737e-04,   2.17030102e-04,\n",
        "        -1.79022658e-05,   7.34068771e-05,   4.18284125e-05,\n",
        "         1.24472318e-04,  -9.53099411e-05,  -4.51184058e-05,\n",
        "        -4.48923404e-07,   1.56905646e-04,  -5.83988976e-05,\n",
        "        -9.65402865e-06,   3.50234354e-05,  -2.18623197e-04,\n",
        "         1.51322445e-04,  -2.79320329e-05,   1.52919260e-04,\n",
        "        -5.75322281e-05,   1.75067780e-04,  -9.14615579e-05,\n",
        "         2.48411392e-05,   2.14144333e-05,   6.48820766e-05,\n",
        "         1.98843650e-04,   5.71141330e-05])\n"
       ]
      },
      {
       "metadata": {},
       "output_type": "display_data",
       "png": "[encoded data removed]",
       "text": [
        "<matplotlib.figure.Figure at 0x109db0ad0>"
       ]
      }
     ],
     "prompt_number": 19
    },
    {
     "cell_type": "code",
     "collapsed": false,
     "input": [
      "for i in xrange(20):\n",
      "    print scipy.optimize.check_grad(loss, loss_grad, np.random.randn(D), x, y, lam)"
     ],
     "language": "python",
     "metadata": {},
     "outputs": [
      {
       "output_type": "stream",
       "stream": "stdout",
       "text": [
        "0.00119871380864\n",
        "0.000402193614291\n",
        "0.00168111401433\n",
        "0.000655980267077"
       ]
      },
      {
       "output_type": "stream",
       "stream": "stdout",
       "text": [
        "\n",
        "0.000372996397792\n",
        "0.000472692101711\n",
        "0.000388130560457"
       ]
      },
      {
       "output_type": "stream",
       "stream": "stdout",
       "text": [
        "\n",
        "0.000730300939988\n",
        "0.00126624194206\n",
        "0.00120537782538"
       ]
      },
      {
       "output_type": "stream",
       "stream": "stdout",
       "text": [
        "\n",
        "0.00059403129132\n",
        "0.000382983873217\n",
        "0.000539186470055"
       ]
      },
      {
       "output_type": "stream",
       "stream": "stdout",
       "text": [
        "\n",
        "0.000393647506508\n",
        "0.00172399102752\n",
        "0.000669198845181"
       ]
      },
      {
       "output_type": "stream",
       "stream": "stdout",
       "text": [
        "\n",
        "0.00107393705519\n",
        "0.000431024814486\n",
        "0.000426219873237"
       ]
      },
      {
       "output_type": "stream",
       "stream": "stdout",
       "text": [
        "\n",
        "0.000970449796996\n"
       ]
      }
     ],
     "prompt_number": 10
    },
    {
     "cell_type": "code",
     "collapsed": false,
     "input": [],
     "language": "python",
     "metadata": {},
     "outputs": []
    }
   ],
   "metadata": {}
  }
 ]
}