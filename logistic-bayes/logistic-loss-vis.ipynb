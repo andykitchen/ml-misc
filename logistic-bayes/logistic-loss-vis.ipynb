{
 "metadata": {
  "name": "",
  "signature": "sha256:4ab2ed57671da599b1343a9852833c2617e75af48522d067c0444b2141ce61f8"
 },
 "nbformat": 3,
 "nbformat_minor": 0,
 "worksheets": [
  {
   "cells": [
    {
     "cell_type": "code",
     "collapsed": false,
     "input": [
      "import collections"
     ],
     "language": "python",
     "metadata": {},
     "outputs": [],
     "prompt_number": 2
    },
    {
     "cell_type": "code",
     "collapsed": false,
     "input": [
      "import numpy as np\n",
      "import scipy.special\n",
      "import scipy.stats"
     ],
     "language": "python",
     "metadata": {},
     "outputs": [],
     "prompt_number": 3
    },
    {
     "cell_type": "code",
     "collapsed": false,
     "input": [
      "import matplotlib.pyplot as plt\n",
      "%matplotlib inline"
     ],
     "language": "python",
     "metadata": {},
     "outputs": [],
     "prompt_number": 4
    },
    {
     "cell_type": "code",
     "collapsed": false,
     "input": [
      "def generate_data(N, D):\n",
      "    np.random.seed(1)\n",
      "    x = np.random.multivariate_normal(np.zeros(D), np.identity(D), size=N)\n",
      "    beta  = np.zeros(D)\n",
      "    beta[0] = 1\n",
      "    beta[1] = -1    \n",
      "    alpha = 0\n",
      "    p = scipy.special.expit(x.dot(beta) + alpha)\n",
      "    r = np.random.uniform(size=N)\n",
      "    category = r < p\n",
      "    return x, category\n",
      "\n",
      "N = 200\n",
      "D = 2\n",
      "x, category = generate_data(N, D)\n",
      "y = np.array(category, dtype=int)\n",
      "x0 = x[category]\n",
      "x1 = x[np.logical_not(category)]\n",
      "\n",
      "plt.plot(x0[:,0], x0[:,1], 'rx');\n",
      "plt.plot(x1[:,0], x1[:,1], 'bx');"
     ],
     "language": "python",
     "metadata": {},
     "outputs": [
      {
       "metadata": {},
       "output_type": "display_data",
       "png": "[encoded data removed]",
       "text": [
        "<matplotlib.figure.Figure at 0x10c3254d0>"
       ]
      }
     ],
     "prompt_number": 5
    },
    {
     "cell_type": "code",
     "collapsed": false,
     "input": [
      "LogisticVariModel = collections.namedtuple('LogisticVariModel', ['mu', 'rho'])\n",
      "model = LogisticVariModel(mu=np.random.randn(D), rho = np.random.randn(D))"
     ],
     "language": "python",
     "metadata": {},
     "outputs": [],
     "prompt_number": 6
    },
    {
     "cell_type": "code",
     "collapsed": false,
     "input": [
      "def loss(beta, x, y, lam):\n",
      "    z = x.dot(beta)\n",
      "    p = scipy.special.expit(z)\n",
      "    ent = -((1. - y)*np.log(1. - p) + y*np.log(p))\n",
      "    reg = lam*(beta**2).sum()\n",
      "    return ent.mean()/np.log(2.) + reg"
     ],
     "language": "python",
     "metadata": {},
     "outputs": [],
     "prompt_number": 7
    },
    {
     "cell_type": "code",
     "collapsed": false,
     "input": [
      "def plot_f(f):\n",
      "    xx = np.linspace(-5, 5)\n",
      "    yy = np.linspace(-5, 5)\n",
      "        \n",
      "    xv, yv = np.meshgrid(xx, yy)\n",
      "    zz = np.apply_along_axis(f, 2, np.dstack([xv, yv]))\n",
      "    \n",
      "    plt.contourf(xx, yy, zz)"
     ],
     "language": "python",
     "metadata": {},
     "outputs": [],
     "prompt_number": 8
    },
    {
     "cell_type": "code",
     "collapsed": false,
     "input": [
      "plot_f(lambda beta: loss(beta, x, y, lam=0.))"
     ],
     "language": "python",
     "metadata": {},
     "outputs": [
      {
       "metadata": {},
       "output_type": "display_data",
       "png": "[encoded data removed]",
       "text": [
        "<matplotlib.figure.Figure at 0x10b7eb310>"
       ]
      }
     ],
     "prompt_number": 9
    },
    {
     "cell_type": "code",
     "collapsed": false,
     "input": [],
     "language": "python",
     "metadata": {},
     "outputs": [],
     "prompt_number": 9
    }
   ],
   "metadata": {}
  }
 ]
}